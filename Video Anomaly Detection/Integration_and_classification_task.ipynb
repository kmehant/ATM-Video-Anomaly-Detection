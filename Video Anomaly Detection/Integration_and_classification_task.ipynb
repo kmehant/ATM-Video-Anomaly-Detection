{
  "cells": [
    {
      "cell_type": "code",
      "execution_count": 1,
      "metadata": {
        "colab": {
          "base_uri": "https://localhost:8080/"
        },
        "id": "x1o0VU-uY6j3",
        "outputId": "7da23874-cad0-4da0-8515-6ecd05c5a426"
      },
      "outputs": [
        {
          "output_type": "stream",
          "name": "stdout",
          "text": [
            "Mounted at /content/drive\n"
          ]
        }
      ],
      "source": [
        "from google.colab import drive\n",
        "drive.mount('/content/drive')"
      ]
    },
    {
      "cell_type": "markdown",
      "source": [
        "## Package imports"
      ],
      "metadata": {
        "id": "9A1tLTmm0Eph"
      }
    },
    {
      "cell_type": "code",
      "execution_count": 2,
      "metadata": {
        "id": "dR3U87I01mPB"
      },
      "outputs": [],
      "source": [
        "import os, random\n",
        "import shutil\n",
        "import numpy as np\n",
        "import tensorflow as tf\n",
        "import pandas as pd\n",
        "import matplotlib.pyplot as plt\n",
        "import cv2\n",
        "import keras\n",
        "import seaborn as sns\n",
        "import json\n",
        "from PIL import Image\n",
        "import re\n",
        "import gc\n",
        "\n",
        "from cv2 import imread, createCLAHE \n",
        "from tqdm import tqdm\n",
        "from tensorflow.keras.applications import ResNet50V2\n",
        "from keras.preprocessing import image\n",
        "from keras.models import *\n",
        "from keras.layers import *\n",
        "from keras.optimizers import *\n",
        "from keras import backend as keras\n",
        "from keras.preprocessing.image import ImageDataGenerator\n",
        "from keras.callbacks import ModelCheckpoint, LearningRateScheduler\n",
        "from keras.callbacks import EarlyStopping\n",
        "from sklearn.metrics import classification_report, confusion_matrix\n",
        "from sklearn.preprocessing import minmax_scale\n",
        "from sklearn.utils import class_weight\n",
        "\n",
        "%matplotlib inline"
      ]
    },
    {
      "cell_type": "markdown",
      "source": [
        "## Helper variables"
      ],
      "metadata": {
        "id": "LyMIcAc5z5U5"
      }
    },
    {
      "cell_type": "code",
      "execution_count": 3,
      "metadata": {
        "id": "a1osiJeDEJJP",
        "colab": {
          "base_uri": "https://localhost:8080/"
        },
        "outputId": "6f1d1a0e-2ff3-4691-b3ec-a9256544f135"
      },
      "outputs": [
        {
          "output_type": "stream",
          "name": "stdout",
          "text": [
            "['3', '5', '10', '11', '12', '13', '14', '15', '16', '17', '18', '19', '20', '21', '22', '23', '24', '25', '27', '28', '30a', '30b', '31', '32', '36c', '36b', '36a', '42', '47', '50', '51', '52', '53', '54', '55', '56', '57', '59', '60', '62', '63', '65', '66', '67b', '67a', '68', '69', '70', '71', '72', '75', '76', '78', '80', '82b', '82a', '83', '84', '85', '87', '88', '89', '90', '92', '93']\n"
          ]
        }
      ],
      "source": [
        "dataset = '/content/drive/MyDrive/feature_data/'\n",
        "videos = os.listdir(dataset)\n",
        "frame_shape = (112, 112)\n",
        "imgnet_mean = np.array([123.68, 116.779, 103.939][::1], dtype=\"float32\")\n",
        "videos.sort(key=lambda f: int(re.sub('\\D', '', f)))\n",
        "print(videos)"
      ]
    },
    {
      "cell_type": "markdown",
      "metadata": {
        "id": "EHHBrHReZ-xZ"
      },
      "source": [
        "## Import Contextual Features"
      ]
    },
    {
      "cell_type": "code",
      "execution_count": 5,
      "metadata": {
        "id": "tE2oCOOoaDNP"
      },
      "outputs": [],
      "source": [
        "def get_cf(dataset, start, end):\n",
        "  cf = []\n",
        "  for v in videos[start: end]:\n",
        "    c_features = np.load(dataset+v + '/cf/cf.npy')\n",
        "    cf.extend(c_features)\n",
        "  return np.array(cf)"
      ]
    },
    {
      "cell_type": "code",
      "execution_count": 6,
      "metadata": {
        "id": "-XXPGuIKHIX7"
      },
      "outputs": [],
      "source": [
        "def change_shape(root, images, shape=frame_shape):\n",
        "  res = []\n",
        "  for i in images:\n",
        "    im = Image.open(root+i)\n",
        "    im = im.resize(shape,Image.ANTIALIAS)\n",
        "    im = np.array(im)\n",
        "    im = im /255\n",
        "    res.append(im)\n",
        "  assert len(res) == len(images)\n",
        "  return res"
      ]
    },
    {
      "cell_type": "markdown",
      "metadata": {
        "id": "QKJPxy2tYzcc"
      },
      "source": [
        "## Import Spatial Features"
      ]
    },
    {
      "cell_type": "code",
      "execution_count": 7,
      "metadata": {
        "id": "KZZ39O9Rpe1_"
      },
      "outputs": [],
      "source": [
        "def get_sf(dataset, start, end):\n",
        "  sf = []\n",
        "  for v in videos[start: end]:\n",
        "    print(v)\n",
        "    names = os.listdir(dataset+v + '/f/')\n",
        "    try:\n",
        "      names.remove('.ipynb_checkpoints')\n",
        "    except:\n",
        "      pass\n",
        "    names.sort(key=lambda f: int(re.sub('\\D', '', f)))\n",
        "    imgs_spat = change_shape(dataset+v+'/f/', names)\n",
        "    sf.extend(imgs_spat)\n",
        "    gc.collect()\n",
        "  gc.collect()\n",
        "  return np.array(sf)"
      ]
    },
    {
      "cell_type": "markdown",
      "metadata": {
        "id": "5jdaIAxfkcYR"
      },
      "source": [
        "## Import Motion Features"
      ]
    },
    {
      "cell_type": "code",
      "execution_count": 8,
      "metadata": {
        "id": "YW78o7DnY31E"
      },
      "outputs": [],
      "source": [
        "def get_mf(dataset, start, end):\n",
        "  mf = []\n",
        "  for v in videos[start: end]:\n",
        "    print(v)\n",
        "    names = os.listdir(dataset+v + '/mf/')\n",
        "    try:\n",
        "      names.remove('.ipynb_checkpoints')\n",
        "    except:\n",
        "      pass\n",
        "    names.sort(key=lambda f: int(re.sub('\\D', '', f)))\n",
        "    imgs_spat = change_shape(dataset+v+'/mf/', names)\n",
        "    mf.extend(imgs_spat)\n",
        "  return np.array(mf)"
      ]
    },
    {
      "cell_type": "markdown",
      "source": [
        "## Batch Generator Code"
      ],
      "metadata": {
        "id": "kBHK20L5zhdQ"
      }
    },
    {
      "cell_type": "code",
      "source": [
        "class My_Custom_Generator(tf.keras.utils.Sequence) :\n",
        "  \n",
        "  def __init__(self, videos, batch_size) :\n",
        "    self.labels = get_y(get_annotations(), dataset, 0, 16)\n",
        "    self.cf = get_cf(dataset, 0, 16)\n",
        "    self.videos = videos  # 1 2 3 folders\n",
        "    self.YY = []\n",
        "    for y in self.labels:\n",
        "      if y == 1:\n",
        "        self.YY.append([0, 1])\n",
        "      else:\n",
        "        self.YY.append([1, 0])\n",
        "\n",
        "    self.batch_size = batch_size\n",
        "\n",
        "    # spatial and motion feature meta data\n",
        "    self.ds = '/content/drive/MyDrive/fd'\n",
        "    self.mfs = os.listdir(self.ds+'/mf/')\n",
        "    self.sfs = os.listdir(self.ds+'/f/')\n",
        "    self.mfs.sort(key=lambda f: int(re.sub('\\D', '', f)))\n",
        "    self.sfs.sort(key=lambda f: int(re.sub('\\D', '', f)))\n",
        "    \n",
        "    \n",
        "  def __len__(self) :\n",
        "    return (np.ceil(len(self.labels) / float(self.batch_size))).astype(np.int)\n",
        "  \n",
        "  \n",
        "  def __getitem__(self, idx) :\n",
        "    # extract mf batch\n",
        "    mfx = []\n",
        "    for image in self.mfs[idx*self.batch_size: (idx+1)*self.batch_size]:\n",
        "      im = Image.open(self.ds+'/mf/'+image)\n",
        "      im = im.resize(frame_shape,Image.ANTIALIAS)\n",
        "      im = np.array(im)\n",
        "      im = im / 255\n",
        "      mfx.append(im)\n",
        "    mfx = np.array(mfx)\n",
        "\n",
        "    # extract sf batch\n",
        "    sfx = []\n",
        "    for image in self.sfs[idx*self.batch_size: (idx+1)*self.batch_size]:\n",
        "      im = Image.open(self.ds+'/f/'+image)\n",
        "      im = im.resize(frame_shape,Image.ANTIALIAS)\n",
        "      im = np.array(im)\n",
        "      im = im / 255\n",
        "      sfx.append(im)\n",
        "    sfx = np.array(sfx)\n",
        "\n",
        "    batch_x = [self.cf[idx*self.batch_size: (idx+1)*self.batch_size], sfx, mfx]\n",
        "    batch_y = self.YY[idx * self.batch_size : (idx+1) * self.batch_size]\n",
        "\n",
        "    gc.collect()\n",
        "    return batch_x, np.array(batch_y)"
      ],
      "metadata": {
        "id": "lzOLXUYDd_Yz"
      },
      "execution_count": 9,
      "outputs": []
    },
    {
      "cell_type": "markdown",
      "metadata": {
        "id": "FyYekAojtDZ8"
      },
      "source": [
        "## Preparing ground truth Y"
      ]
    },
    {
      "cell_type": "code",
      "execution_count": 10,
      "metadata": {
        "id": "P8GQU9ZmqVd8"
      },
      "outputs": [],
      "source": [
        "def get_annotations(location = '/content/drive/MyDrive/atm_video_labels.txt'):\n",
        "  annotation_loc = location\n",
        "  annotations = {}\n",
        "  with open(annotation_loc, 'r') as f:\n",
        "    lines = f.readlines()\n",
        "    for line in lines:\n",
        "      line = line.split(' ')\n",
        "      annotations[line[0][:-4]] = line[1:]\n",
        "  return annotations\n",
        "\n",
        "def isinrange(r, fn):\n",
        "  for i in range(0, len(r), 2):\n",
        "    if r[i+1][-1] == 'n':\n",
        "      r[i+1] = r[i+1][:-2]\n",
        "    if fn >= int(r[i]) and fn <= int(r[i+1]):\n",
        "      return True\n",
        "  return False\n",
        "\n",
        "def get_y(annotations, dataset, start, end):\n",
        "  Y = []\n",
        "  for v in videos[start: end]:\n",
        "    ann = annotations[v][2:]\n",
        "    fs = os.listdir(dataset+v+ '/f/')\n",
        "    fs.sort(key=lambda f: int(re.sub('\\D', '', f)))\n",
        "    v_fc = len(fs)\n",
        "    y = [0] * v_fc\n",
        "    k = 0\n",
        "    for i in fs:\n",
        "      if ann[0] == '-1':\n",
        "        break\n",
        "      i = int(i[:-6])\n",
        "      if isinrange(ann, i):\n",
        "        y[k] = 1\n",
        "      k += 1\n",
        "    Y.extend(y)\n",
        "  return Y"
      ]
    },
    {
      "cell_type": "markdown",
      "source": [
        "## Generators to return data in batches while training"
      ],
      "metadata": {
        "id": "qefjGHW_zWvd"
      }
    },
    {
      "cell_type": "code",
      "source": [
        "tg = My_Custom_Generator(videos, 1)\n",
        "vg = My_Custom_Generator(videos, 1)"
      ],
      "metadata": {
        "id": "87DXxsxgxixV"
      },
      "execution_count": 48,
      "outputs": []
    },
    {
      "cell_type": "markdown",
      "source": [
        "## Preparing ResNet for feature extraction"
      ],
      "metadata": {
        "id": "wq7uiXthzMbR"
      }
    },
    {
      "cell_type": "code",
      "execution_count": 11,
      "metadata": {
        "colab": {
          "base_uri": "https://localhost:8080/"
        },
        "id": "NXv1GEim3HT7",
        "outputId": "508520ab-98c9-4a71-b74d-1bb34d1ea4e6"
      },
      "outputs": [
        {
          "output_type": "stream",
          "name": "stdout",
          "text": [
            "Downloading data from https://storage.googleapis.com/tensorflow/keras-applications/resnet/resnet50v2_weights_tf_dim_ordering_tf_kernels_notop.h5\n",
            "94674944/94668760 [==============================] - 2s 0us/step\n",
            "94683136/94668760 [==============================] - 2s 0us/step\n",
            "KerasTensor(type_spec=TensorSpec(shape=(None, 2048), dtype=tf.float32, name=None), name='avg_pool/Mean:0', description=\"created by layer 'avg_pool'\")\n"
          ]
        }
      ],
      "source": [
        "size = (112, 112, 3)\n",
        "\n",
        "spatial_feature_extractor = ResNet50V2(input_shape=size , weights = 'imagenet', pooling='avg' , include_top=False)\n",
        "for layer in spatial_feature_extractor.layers:\n",
        "\tlayer.trainable = False\n",
        "\n",
        "print(spatial_feature_extractor.output)"
      ]
    },
    {
      "cell_type": "markdown",
      "source": [
        "## Model Architecture"
      ],
      "metadata": {
        "id": "fII23LMHzEPB"
      }
    },
    {
      "cell_type": "code",
      "execution_count": 12,
      "metadata": {
        "colab": {
          "base_uri": "https://localhost:8080/"
        },
        "id": "aGeKaOPyG_8e",
        "outputId": "56ebb862-d7a9-4321-ce7a-7fdc76770710"
      },
      "outputs": [
        {
          "output_type": "stream",
          "name": "stdout",
          "text": [
            "KerasTensor(type_spec=TensorSpec(shape=(None, 4177), dtype=tf.float32, name=None), name='concatenate/concat:0', description=\"created by layer 'concatenate'\")\n",
            "Model: \"model\"\n",
            "__________________________________________________________________________________________________\n",
            " Layer (type)                   Output Shape         Param #     Connected to                     \n",
            "==================================================================================================\n",
            " input_2 (InputLayer)           [(None, 112, 112, 3  0           []                               \n",
            "                                )]                                                                \n",
            "                                                                                                  \n",
            " input_3 (InputLayer)           [(None, 112, 112, 3  0           []                               \n",
            "                                )]                                                                \n",
            "                                                                                                  \n",
            " input_4 (InputLayer)           [(None, 81)]         0           []                               \n",
            "                                                                                                  \n",
            " resnet50v2 (Functional)        (None, 2048)         23564800    ['input_2[0][0]',                \n",
            "                                                                  'input_3[0][0]']                \n",
            "                                                                                                  \n",
            " concatenate (Concatenate)      (None, 4177)         0           ['input_4[0][0]',                \n",
            "                                                                  'resnet50v2[0][0]',             \n",
            "                                                                  'resnet50v2[1][0]']             \n",
            "                                                                                                  \n",
            " dense (Dense)                  (None, 4096)         17113088    ['concatenate[0][0]']            \n",
            "                                                                                                  \n",
            " drop2 (Dropout)                (None, 4096)         0           ['dense[0][0]']                  \n",
            "                                                                                                  \n",
            " dense_1 (Dense)                (None, 512)          2097664     ['drop2[0][0]']                  \n",
            "                                                                                                  \n",
            " drop3 (Dropout)                (None, 512)          0           ['dense_1[0][0]']                \n",
            "                                                                                                  \n",
            " dense_2 (Dense)                (None, 32)           16416       ['drop3[0][0]']                  \n",
            "                                                                                                  \n",
            " drop4 (Dropout)                (None, 32)           0           ['dense_2[0][0]']                \n",
            "                                                                                                  \n",
            " dense_3 (Dense)                (None, 2)            66          ['drop4[0][0]']                  \n",
            "                                                                                                  \n",
            "==================================================================================================\n",
            "Total params: 42,792,034\n",
            "Trainable params: 19,227,234\n",
            "Non-trainable params: 23,564,800\n",
            "__________________________________________________________________________________________________\n"
          ]
        }
      ],
      "source": [
        "def arch(inputs=size):\n",
        "\n",
        "  input_spatial = Input(inputs)\n",
        "  input_motion = Input(inputs)\n",
        "  input_boo = Input((81))\n",
        "\n",
        "  x = spatial_feature_extractor(input_spatial)\n",
        "  y = spatial_feature_extractor(input_motion)\n",
        "\n",
        "\n",
        "  # x =  GlobalAveragePooling2D()(x)\n",
        "  # y =  GlobalAveragePooling2D()(y)\n",
        "\n",
        "  \n",
        "\n",
        "  conc = concatenate([ input_boo ,x , y])\n",
        "  print(conc)\n",
        "  x = Dense(4096 , activation=\"relu\")(conc)\n",
        "  x = Dropout(0.6, name = \"drop2\")(x)\n",
        "  x = Dense( 512 , activation=\"relu\")(x)\n",
        "  x = Dropout(0.6, name = \"drop3\")(x)\n",
        "  x = Dense( 32 , activation=\"relu\")(x)\n",
        "  x = Dropout(0.6, name = \"drop4\")(x)\n",
        "  x = Dense(2 , activation=\"softmax\")(x)\n",
        "\n",
        "  return Model( inputs = [input_boo , input_spatial , input_motion], outputs = x )\n",
        "\n",
        "\n",
        "a = arch()\n",
        "\n",
        "a.summary()"
      ]
    },
    {
      "cell_type": "code",
      "execution_count": 13,
      "metadata": {
        "id": "ifzSiOXQhayh",
        "colab": {
          "base_uri": "https://localhost:8080/",
          "height": 1000
        },
        "outputId": "72e276d3-394d-49a8-9e10-f829df7415e1"
      },
      "outputs": [
        {
          "output_type": "execute_result",
          "data": {
            "text/plain": [
              "<IPython.core.display.Image object>"
            ],
            "image/png": "[encoded data removed]"
          },
          "metadata": {},
          "execution_count": 13
        }
      ],
      "source": [
        "tf.keras.utils.plot_model(\n",
        "    a,\n",
        "    to_file=\"model.png\",\n",
        "    show_shapes=True,\n",
        "    show_dtype=True,\n",
        ")\n"
      ]
    },
    {
      "cell_type": "markdown",
      "source": [
        "## Set model loss function, optimizer and training metrics"
      ],
      "metadata": {
        "id": "WpiSggZQy8Xh"
      }
    },
    {
      "cell_type": "code",
      "execution_count": 14,
      "metadata": {
        "id": "WHA3LKyZSt4W"
      },
      "outputs": [],
      "source": [
        "a.compile(loss ='categorical_crossentropy' , optimizer ='adam' , metrics=['categorical_accuracy'])"
      ]
    },
    {
      "cell_type": "markdown",
      "source": [
        "## Training the model in batches"
      ],
      "metadata": {
        "id": "I4d3wBQDyPCf"
      }
    },
    {
      "cell_type": "code",
      "source": [
        "epochs = 10\n",
        "checkpoint_path = '/content/drive/MyDrive/'\n",
        "my_callbacks = [\n",
        "    tf.keras.callbacks.EarlyStopping(patience=2),\n",
        "    tf.keras.callbacks.ModelCheckpoint(filepath=checkpoint_path+'best_atm_model_112_small_16.h5', save_freq=\"epoch\", save_best_only=True, monitor=\"loss\"),\n",
        "]\n",
        "history = a.fit(tg,\n",
        "                                  epochs=epochs,\n",
        "                                  callbacks = my_callbacks,\n",
        "                shuffle = True)"
      ],
      "metadata": {
        "id": "KeKjtcu-yM9X"
      },
      "execution_count": null,
      "outputs": []
    },
    {
      "cell_type": "markdown",
      "source": [
        "## Model testing and evaluation phase "
      ],
      "metadata": {
        "id": "0B6xGs6iyS4o"
      }
    },
    {
      "cell_type": "code",
      "source": [
        "lk = ['3', '5', '10', '11', '12', '13', '14', '15', '16', '17', '18', '19', '20', '21', '22', '23', '24', '25', '27', '28', '30a', '30b', '31', '32', '36c', '36b', '36a', '42', '47', '50', '51', '52', '53', '54', '55', '56', '57', '59', '60', '62', '63', '65', '66', '67b', '67a', '68', '69', '70', '71', '72', '75', '76', '78', '80', '82b', '82a', '83', '84', '85', '87', '88', '89', '90', '92', '93']\n",
        "\n",
        "vindex = lk.index('21')\n",
        "\n",
        "vindex_end = lk.index('30a')+1\n",
        "\n",
        "def moving_average(x, w):\n",
        "    ret = np.convolve(x, np.ones(w), 'valid') / w\n",
        "    ret = ret.tolist()\n",
        "    ret1 = []\n",
        "    for indi in range(0, w-1):\n",
        "      ret1.append(x[indi])\n",
        "    ret1.extend(ret)\n",
        "    return np.array(ret1)\n",
        "gc.collect()\n",
        "cft = get_cf(dataset, vindex, vindex_end)\n",
        "sft = get_sf(dataset, vindex, vindex_end)\n",
        "mft = get_mf(dataset, vindex, vindex_end)\n",
        "yt = get_y(get_annotations(), dataset, vindex, vindex_end)"
      ],
      "metadata": {
        "id": "Ck4dnaZ1UGME",
        "colab": {
          "base_uri": "https://localhost:8080/"
        },
        "outputId": "868db7fe-7582-4477-a1ec-fc4f9c821064"
      },
      "execution_count": 21,
      "outputs": [
        {
          "output_type": "stream",
          "name": "stdout",
          "text": [
            "21\n",
            "22\n",
            "23\n",
            "24\n",
            "25\n",
            "27\n",
            "28\n",
            "30a\n",
            "21\n",
            "22\n",
            "23\n",
            "24\n",
            "25\n",
            "27\n",
            "28\n",
            "30a\n"
          ]
        }
      ]
    },
    {
      "cell_type": "code",
      "source": [
        "print(cft.shape, sft.shape, mft.shape)\n",
        "new_a = load_model('/content/drive/MyDrive/best_atm_model_112_small_13.h5')\n",
        "\n",
        "hist = new_a.predict([cft, sft, mft])\n",
        "print(hist)\n",
        "print(yt)\n",
        "print(len(yt))\n",
        "ytp = hist[:, 1:2]\n",
        "ytp = np.concatenate(ytp[:], axis=None)"
      ],
      "metadata": {
        "colab": {
          "base_uri": "https://localhost:8080/"
        },
        "id": "mVw1wH4CK4Nh",
        "outputId": "019a878e-deb4-411c-b816-acbdb2da864c"
      },
      "execution_count": 22,
      "outputs": [
        {
          "output_type": "stream",
          "name": "stdout",
          "text": [
            "(2559, 81) (2559, 112, 112, 3) (2559, 112, 112, 3)\n",
            "[[1.0000000e+00 0.0000000e+00]\n",
            " [1.0000000e+00 3.0175180e-38]\n",
            " [1.0000000e+00 0.0000000e+00]\n",
            " ...\n",
            " [3.4038783e-07 9.9999964e-01]\n",
            " [4.0732360e-08 1.0000000e+00]\n",
            " [1.0285932e-12 1.0000000e+00]]\n",
            "[0, 0, 0, 0, 0, 0, 0, 0, 0, 0, 0, 0, 0, 0, 0, 0, 0, 0, 0, 0, 0, 0, 0, 0, 0, 0, 0, 0, 0, 0, 0, 0, 0, 0, 0, 0, 0, 0, 0, 0, 0, 0, 0, 0, 0, 0, 0, 0, 0, 0, 0, 0, 0, 0, 0, 0, 0, 0, 0, 0, 0, 0, 0, 0, 0, 0, 0, 0, 0, 0, 0, 0, 0, 0, 0, 0, 0, 0, 0, 0, 0, 0, 0, 0, 0, 0, 0, 0, 0, 0, 0, 0, 0, 0, 0, 0, 0, 0, 0, 0, 0, 0, 0, 0, 0, 0, 0, 0, 0, 0, 0, 0, 0, 0, 0, 0, 0, 0, 0, 0, 0, 0, 0, 0, 0, 0, 0, 0, 0, 0, 0, 0, 0, 0, 0, 0, 0, 0, 0, 0, 0, 0, 0, 0, 0, 0, 0, 0, 0, 0, 0, 0, 0, 0, 0, 0, 0, 0, 0, 0, 0, 0, 0, 0, 0, 0, 0, 0, 0, 0, 0, 0, 0, 0, 0, 0, 0, 0, 0, 0, 0, 0, 0, 0, 0, 0, 0, 0, 0, 0, 0, 0, 0, 0, 0, 0, 0, 0, 0, 0, 0, 0, 0, 0, 0, 0, 0, 0, 0, 0, 0, 0, 0, 0, 0, 0, 0, 0, 0, 0, 0, 0, 0, 0, 0, 0, 0, 0, 0, 0, 0, 0, 0, 0, 0, 0, 0, 0, 0, 0, 0, 0, 0, 0, 0, 0, 0, 0, 0, 0, 0, 0, 0, 0, 0, 0, 0, 0, 0, 0, 0, 0, 0, 0, 0, 0, 0, 0, 0, 0, 0, 0, 0, 0, 0, 0, 0, 0, 0, 0, 0, 0, 0, 0, 0, 0, 0, 0, 0, 0, 0, 0, 0, 0, 0, 0, 0, 0, 0, 0, 0, 0, 0, 0, 0, 0, 0, 0, 0, 0, 0, 0, 0, 0, 0, 0, 0, 0, 0, 0, 0, 0, 0, 0, 0, 0, 0, 0, 0, 0, 0, 0, 0, 0, 0, 0, 0, 0, 0, 0, 0, 0, 0, 0, 0, 0, 0, 0, 0, 0, 0, 0, 0, 0, 0, 0, 0, 0, 0, 0, 0, 0, 0, 0, 0, 0, 0, 0, 0, 0, 0, 0, 0, 0, 0, 0, 0, 0, 0, 0, 0, 0, 0, 0, 0, 0, 0, 0, 0, 0, 0, 0, 0, 0, 0, 0, 0, 0, 0, 0, 0, 0, 0, 0, 0, 0, 0, 0, 0, 0, 0, 0, 0, 0, 0, 0, 0, 0, 0, 0, 0, 0, 0, 0, 0, 0, 0, 0, 0, 0, 0, 0, 0, 0, 0, 0, 0, 0, 0, 0, 0, 0, 0, 0, 0, 0, 0, 0, 0, 0, 0, 0, 0, 0, 0, 0, 0, 0, 0, 0, 0, 0, 0, 0, 0, 0, 0, 0, 0, 0, 0, 0, 0, 0, 0, 0, 0, 0, 0, 0, 0, 0, 0, 0, 0, 0, 0, 0, 0, 0, 0, 0, 0, 0, 0, 0, 0, 0, 0, 0, 0, 0, 0, 0, 0, 0, 0, 0, 0, 0, 0, 0, 0, 0, 0, 0, 0, 0, 0, 0, 0, 0, 0, 0, 0, 0, 0, 0, 0, 0, 0, 0, 0, 0, 0, 0, 0, 0, 0, 0, 0, 0, 0, 0, 0, 0, 0, 0, 0, 0, 0, 0, 0, 0, 0, 0, 0, 0, 0, 0, 0, 0, 0, 0, 0, 0, 0, 0, 0, 0, 0, 0, 0, 0, 0, 0, 0, 0, 0, 0, 0, 0, 0, 0, 0, 0, 0, 0, 0, 0, 0, 0, 0, 0, 0, 0, 0, 0, 0, 0, 0, 0, 0, 0, 0, 0, 0, 0, 0, 0, 0, 0, 0, 0, 0, 0, 0, 0, 0, 0, 0, 0, 0, 0, 0, 0, 0, 0, 0, 0, 0, 0, 0, 0, 0, 0, 0, 0, 0, 0, 0, 0, 0, 0, 0, 0, 0, 0, 0, 0, 0, 0, 0, 0, 0, 0, 0, 0, 0, 0, 0, 0, 0, 0, 0, 0, 0, 0, 0, 0, 0, 0, 0, 0, 0, 0, 0, 0, 0, 0, 0, 0, 0, 0, 0, 0, 0, 0, 0, 0, 0, 0, 0, 0, 0, 0, 0, 0, 0, 0, 0, 0, 0, 0, 0, 0, 0, 0, 0, 0, 0, 0, 0, 0, 0, 0, 0, 0, 0, 0, 0, 0, 0, 0, 0, 0, 0, 0, 0, 0, 0, 0, 0, 0, 0, 0, 0, 0, 0, 0, 0, 0, 0, 0, 0, 0, 0, 0, 0, 0, 0, 0, 0, 0, 0, 0, 0, 0, 0, 0, 0, 0, 0, 0, 0, 0, 0, 0, 0, 0, 0, 0, 0, 0, 0, 0, 0, 0, 0, 0, 0, 0, 0, 0, 0, 0, 0, 0, 0, 0, 0, 0, 0, 0, 0, 0, 0, 0, 0, 0, 0, 0, 0, 0, 0, 0, 0, 0, 0, 0, 0, 0, 0, 0, 0, 0, 0, 0, 0, 0, 0, 0, 0, 0, 0, 0, 0, 0, 0, 0, 0, 0, 0, 0, 0, 0, 0, 0, 0, 0, 0, 0, 0, 0, 0, 0, 0, 0, 0, 0, 0, 0, 0, 0, 0, 0, 0, 0, 0, 0, 0, 0, 0, 0, 0, 0, 0, 0, 0, 0, 0, 0, 0, 0, 0, 0, 0, 0, 0, 0, 0, 0, 0, 0, 0, 0, 0, 0, 0, 0, 0, 0, 0, 0, 0, 0, 0, 0, 0, 0, 0, 0, 0, 0, 0, 0, 0, 0, 0, 0, 0, 0, 0, 0, 0, 0, 0, 0, 0, 0, 0, 0, 0, 0, 0, 0, 0, 0, 0, 0, 0, 0, 0, 0, 0, 0, 0, 0, 0, 0, 0, 0, 0, 0, 0, 0, 0, 0, 0, 0, 0, 0, 0, 0, 0, 0, 0, 0, 0, 0, 0, 0, 0, 0, 0, 0, 0, 0, 0, 0, 0, 0, 0, 0, 0, 0, 0, 0, 0, 0, 0, 0, 0, 0, 0, 0, 0, 0, 0, 0, 0, 0, 0, 0, 0, 0, 0, 0, 0, 0, 0, 0, 0, 0, 0, 0, 0, 0, 0, 0, 0, 0, 0, 0, 0, 0, 0, 0, 0, 0, 0, 0, 0, 0, 0, 0, 0, 0, 0, 0, 0, 0, 0, 0, 0, 0, 0, 0, 0, 0, 0, 0, 0, 0, 0, 0, 0, 0, 0, 0, 0, 0, 0, 0, 0, 0, 0, 0, 0, 0, 0, 0, 0, 0, 0, 0, 0, 0, 0, 0, 0, 0, 0, 0, 0, 0, 0, 0, 0, 0, 0, 0, 0, 0, 0, 0, 0, 0, 0, 0, 0, 0, 0, 0, 0, 0, 0, 0, 0, 0, 0, 0, 0, 0, 0, 0, 0, 0, 0, 0, 0, 0, 0, 0, 0, 0, 0, 0, 0, 0, 0, 0, 0, 0, 0, 0, 0, 0, 0, 0, 0, 0, 0, 0, 0, 0, 0, 0, 0, 0, 0, 0, 0, 0, 0, 0, 0, 0, 0, 0, 0, 0, 0, 0, 0, 0, 0, 0, 0, 0, 0, 0, 0, 0, 0, 0, 0, 0, 0, 0, 0, 0, 0, 0, 0, 0, 0, 0, 0, 0, 0, 0, 0, 0, 0, 0, 0, 0, 0, 0, 0, 0, 0, 0, 0, 0, 0, 0, 0, 0, 0, 0, 0, 0, 0, 0, 0, 0, 0, 0, 0, 0, 0, 0, 0, 0, 0, 0, 0, 0, 0, 0, 0, 0, 0, 0, 0, 0, 0, 0, 0, 0, 0, 0, 0, 0, 0, 0, 0, 0, 0, 0, 0, 0, 0, 0, 0, 0, 0, 0, 0, 0, 0, 0, 0, 0, 0, 0, 0, 0, 0, 0, 0, 0, 0, 0, 0, 0, 0, 0, 0, 0, 0, 0, 0, 0, 0, 0, 0, 0, 0, 0, 0, 0, 0, 0, 0, 0, 0, 0, 0, 0, 0, 0, 0, 0, 0, 0, 0, 0, 0, 0, 0, 0, 0, 0, 0, 0, 0, 0, 0, 0, 0, 0, 0, 0, 0, 0, 0, 0, 0, 0, 0, 0, 0, 0, 0, 0, 0, 0, 0, 0, 0, 0, 0, 0, 0, 0, 0, 0, 0, 0, 0, 0, 0, 0, 0, 0, 0, 0, 0, 0, 0, 0, 0, 0, 0, 0, 0, 0, 0, 0, 0, 0, 0, 0, 0, 0, 0, 0, 0, 0, 0, 0, 0, 0, 0, 0, 0, 0, 0, 0, 0, 0, 0, 0, 0, 0, 0, 0, 0, 0, 0, 0, 0, 0, 0, 0, 0, 0, 0, 0, 0, 0, 0, 0, 0, 0, 0, 0, 0, 0, 0, 0, 0, 0, 0, 0, 0, 0, 0, 0, 0, 0, 0, 0, 0, 0, 0, 0, 0, 0, 0, 0, 0, 0, 0, 0, 0, 0, 0, 0, 0, 0, 0, 0, 0, 0, 0, 0, 0, 0, 0, 0, 0, 0, 0, 0, 0, 0, 0, 0, 0, 0, 0, 0, 0, 0, 0, 0, 0, 0, 0, 0, 0, 0, 0, 0, 0, 0, 0, 0, 0, 0, 0, 0, 0, 0, 0, 0, 0, 0, 0, 0, 0, 0, 0, 0, 0, 0, 0, 0, 0, 0, 0, 0, 0, 0, 0, 0, 0, 0, 0, 0, 0, 0, 0, 0, 0, 0, 0, 0, 0, 0, 0, 0, 0, 0, 0, 0, 0, 0, 0, 0, 0, 0, 0, 0, 0, 0, 0, 0, 0, 0, 0, 0, 0, 0, 0, 0, 0, 0, 0, 0, 0, 0, 0, 0, 0, 0, 0, 0, 0, 0, 0, 0, 0, 0, 0, 0, 0, 0, 0, 0, 0, 0, 0, 0, 0, 0, 0, 0, 0, 0, 0, 0, 0, 0, 0, 0, 0, 0, 0, 0, 0, 0, 0, 0, 0, 0, 0, 0, 0, 0, 0, 0, 0, 0, 0, 0, 0, 0, 0, 0, 0, 0, 0, 0, 0, 0, 0, 0, 0, 0, 0, 0, 0, 0, 0, 0, 0, 0, 0, 0, 0, 0, 0, 0, 0, 0, 0, 0, 0, 0, 0, 0, 0, 0, 0, 0, 0, 0, 0, 0, 0, 0, 0, 0, 0, 0, 0, 0, 0, 0, 0, 0, 0, 0, 0, 0, 0, 0, 0, 0, 0, 0, 0, 0, 0, 1, 1, 1, 1, 1, 1, 1, 1, 1, 1, 1, 1, 1, 1, 1, 1, 1, 1, 1, 1, 1, 1, 1, 1, 1, 1, 1, 1, 1, 1, 1, 1, 1, 1, 1, 1, 1, 1, 1, 1, 1, 1, 1, 1, 1, 1, 1, 1, 1, 1, 1, 1, 1, 1, 1, 1, 1, 1, 1, 1, 1, 1, 1, 1, 1, 1, 1, 1, 1, 1, 1, 1, 1, 1, 1, 1, 1, 1, 1, 1, 1, 1, 1, 1, 1, 1, 1, 1, 1, 1, 1, 1, 1, 1, 1, 1, 1, 1, 1, 1, 1, 1, 1, 1, 1, 1, 1, 1, 1, 1, 1, 1, 1, 1, 1, 1, 1, 1, 1, 1, 1, 1, 1, 1, 1, 1, 1, 1, 1, 1, 1, 1, 1, 1, 1, 1, 1, 1, 1, 1, 1, 1, 1, 1, 1, 1, 1, 1, 1, 1, 1, 1, 1, 1, 1, 1, 1, 1, 1, 1, 1, 1, 1, 1, 1, 1, 1, 1, 1, 1, 1, 1, 1, 1, 1, 1, 1, 1, 1, 1, 1, 1, 1, 1, 1, 1, 1, 1, 1, 1, 1, 1, 1, 1, 1, 1, 1, 1, 1, 1, 1, 1, 1, 1, 1, 1, 1, 1, 1, 1, 1, 1, 1, 1, 1, 1, 1, 1, 1, 1, 1, 1, 1, 1, 1, 1, 1, 1, 1, 1, 1, 1, 1, 1, 1, 1, 1, 1, 1, 1, 1, 1, 1, 1, 1, 1, 1, 1, 1, 1, 1, 1, 1, 1, 1, 1, 1, 1, 1, 1, 1, 1, 1, 1, 1, 1, 1, 1, 1, 1, 1, 1, 1, 1, 1, 1, 1, 1, 1, 1, 1, 1, 1, 1, 1, 1, 1, 1, 1, 1, 1, 1, 1, 1, 0, 0, 0, 0, 0, 0, 0, 0, 0, 0, 0, 0, 0, 0, 0, 0, 0, 0, 0, 0, 0, 0, 0, 0, 0, 0, 0, 0, 0, 0, 0, 0, 0, 0, 0, 0, 0, 0, 0, 0, 0, 0, 0, 0, 0, 0, 0, 0, 0, 0, 0, 0, 0, 0, 0, 0, 0, 0, 0, 0, 0, 0, 0, 0, 0, 0, 0, 0, 0, 0, 0, 0, 0, 0, 0, 0, 0, 0, 0, 0, 0, 0, 0, 0, 0, 0, 0, 0, 0, 0, 0, 1, 1, 1, 1, 1, 1, 1, 1, 1, 1, 1, 1, 1, 1, 1, 1, 1, 1, 1, 1, 1, 1, 1, 1, 1, 1, 1, 1, 1, 1, 1, 1, 1, 1, 1, 1, 1, 1, 1, 1, 1, 1, 1, 1, 1, 1, 1, 1, 1, 1, 1, 1, 1, 1, 1, 1, 1, 1, 1, 1, 1, 1, 1, 1, 1, 1, 1, 1, 1, 1, 1, 1, 1, 1, 1, 1, 1, 1, 1, 1, 1, 1, 1, 1, 1, 1, 1, 1, 1, 1, 1, 1, 1, 1, 1, 1, 1, 1, 1, 1, 1, 1, 1, 1, 1, 1, 1, 1, 1, 1, 1, 1, 1, 1, 1, 1, 1, 1, 1, 1, 1, 1, 1, 1, 1, 1, 1, 1, 1, 1, 1, 1, 1, 1, 1, 1, 1, 1, 1, 1, 1, 1, 1, 1, 1, 1, 1, 1, 1, 1, 1, 1, 1, 1, 1, 1, 1, 1, 1, 1, 1, 1, 1, 1, 1, 1, 1, 1, 1, 1, 1, 1, 1, 1, 1, 1, 1, 1, 1, 1, 1, 1, 1, 1, 1, 1, 1, 1, 1, 1, 1, 1, 1, 1, 1, 1, 1, 1, 1, 1, 1, 1, 1, 1, 1, 1, 1, 1, 1, 1, 1, 1, 1, 1, 1, 1, 1, 1, 1, 1, 1, 1, 1, 1, 1, 1, 1, 1, 1, 1, 0, 0, 0, 0, 0, 0, 0, 0, 0, 0, 0, 0, 0, 0, 0, 0, 0, 0, 0, 0, 0, 0, 0, 0, 0, 0, 0, 0, 0, 0, 0, 0, 0, 0, 0, 0, 0, 0, 0, 0, 0, 0, 0, 0, 0, 0, 0, 0, 0, 0, 0, 0, 0, 0, 0, 0, 0, 0, 0, 0, 0, 0, 0, 0, 0, 0, 0, 0, 0, 0, 0, 0, 0, 0, 0, 0, 0, 0, 0, 0, 0, 0, 0, 0, 0, 0, 0, 0, 0, 0, 0, 0, 0, 0, 0, 0, 0, 0, 0, 0, 0, 0, 0, 0, 0, 0, 0, 0, 0, 0, 0, 0, 0, 0, 0, 0, 0, 0, 0, 0, 0, 0, 0, 0, 0, 0, 0, 0, 0, 0, 0, 0, 0, 0, 0, 0, 0, 0, 0, 0, 0, 0, 0, 0, 0, 0, 0, 0, 0, 0, 0, 0, 0, 0, 0, 0, 0, 0, 0, 0, 0, 0, 0, 0, 0, 0, 0, 0, 0, 0, 1, 1, 1, 1, 1, 1, 1, 1, 1, 1, 1, 1, 1, 1, 1, 1, 1, 1, 1, 1, 1, 1, 1, 1, 1, 1, 1, 1, 1, 1, 1, 1, 1, 1, 1, 1, 1, 1, 1, 1, 1, 1, 1, 1, 1, 1, 1, 1, 1, 1, 1, 1, 1, 1, 1, 1, 1, 1, 1, 1, 1, 1, 1, 1, 1, 1, 1, 1, 1, 1, 1, 1, 1, 1, 1, 1, 1, 1, 1, 1, 1, 1, 1, 1, 1, 1, 1, 1, 1, 1, 1, 1, 1, 1, 1]\n",
            "2559\n"
          ]
        }
      ]
    },
    {
      "cell_type": "markdown",
      "source": [
        "### Applying rolling average"
      ],
      "metadata": {
        "id": "IdJbbAi4yesc"
      }
    },
    {
      "cell_type": "code",
      "source": [
        "ytp = moving_average(ytp, 10)"
      ],
      "metadata": {
        "id": "Yh5eI6w6VKPo"
      },
      "execution_count": 47,
      "outputs": []
    },
    {
      "cell_type": "markdown",
      "source": [
        "## Qualitative Results"
      ],
      "metadata": {
        "id": "91RSqjjxyoZD"
      }
    },
    {
      "cell_type": "code",
      "source": [
        "import numpy as np\n",
        "import matplotlib.pyplot as plt\n",
        "\n",
        "x = np.arange(1, cft.shape[0]+1, 1, dtype=int)\n",
        "\n",
        "ax = plt.gca()\n",
        "ax.set_ylim([-0.1, 1.1])\n",
        "ax.set_ylabel('anomaly score')\n",
        "ax.set_xlabel('frame number')\n",
        "\n",
        "plt.title(\"qualitative result\")\n",
        "plt.plot(x, ytp, color=\"red\")\n",
        "\n",
        "plt.plot(x, [.5]*len(x), color=\"blue\", alpha=1)\n",
        "plt.plot(x, yt, color=\"green\", alpha=1)\n",
        "ax.fill_between(x, 0, ytp, color='red', alpha=.3)\n",
        "plt.grid()\n",
        "plt.show()"
      ],
      "metadata": {
        "colab": {
          "base_uri": "https://localhost:8080/",
          "height": 295
        },
        "id": "d9r83tVgERCk",
        "outputId": "07303c8b-5c26-413a-e342-29d42f5f6fee"
      },
      "execution_count": 23,
      "outputs": [
        {
          "output_type": "display_data",
          "data": {
            "text/plain": [
              "<Figure size 432x288 with 1 Axes>"
            ],
            "image/png": "[encoded data removed]"
          },
          "metadata": {
            "needs_background": "light"
          }
        }
      ]
    },
    {
      "cell_type": "markdown",
      "source": [
        "## Quantitative Results"
      ],
      "metadata": {
        "id": "HRssnAJYyupz"
      }
    },
    {
      "cell_type": "code",
      "source": [
        "ytg = []\n",
        "for yy in yt:\n",
        "  if yy == 1:\n",
        "    ytg.append([0, 1])\n",
        "  else:\n",
        "    ytg.append([1, 0])\n",
        "\n",
        "ytg = np.array(ytg)\n",
        "\n",
        "score = new_a.evaluate([cft, sft, mft], ytg)"
      ],
      "metadata": {
        "colab": {
          "base_uri": "https://localhost:8080/"
        },
        "id": "rHm9PFnPI59q",
        "outputId": "735717a0-a280-4faf-c5e3-c4f8762a37f4"
      },
      "execution_count": 24,
      "outputs": [
        {
          "output_type": "stream",
          "name": "stdout",
          "text": [
            "80/80 [==============================] - 6s 65ms/step - loss: 1.1314 - categorical_accuracy: 0.8835\n"
          ]
        }
      ]
    },
    {
      "cell_type": "code",
      "source": [
        "from sklearn.metrics import precision_score\n",
        "from sklearn.metrics import recall_score\n",
        "from sklearn.metrics import f1_score\n",
        "from sklearn.metrics import roc_auc_score\n",
        "from sklearn.metrics import accuracy_score\n",
        "from sklearn.metrics import confusion_matrix\n",
        "\n",
        "ytpred = []\n",
        "\n",
        "for ytpr in ytp:\n",
        "  if ytpr < 0.5:\n",
        "    ytpred.append(0)\n",
        "  else:\n",
        "    ytpred.append(1)\n",
        "\n",
        "print(':::Test Metrics:::\\n')\n",
        "print('Accuracy: ', accuracy_score(yt, ytpred))\n",
        "print('Precision: ', precision_score(yt, ytpred))\n",
        "print('Recall: ', recall_score(yt, ytpred))\n",
        "print('f1_score: ', f1_score(yt, ytpred))\n",
        "tn, fp, fn, tp = confusion_matrix(yt, ytpred, labels=[0,1]).ravel()\n",
        "cm = confusion_matrix(yt, ytpred, labels=[0,1])\n",
        "print('False Positive Rate: ', fp / (fp + tn))\n",
        "print('ROC AUC: ', roc_auc_score(yt, ytp))\n",
        "print('confusion matrix')\n",
        "plt.matshow(cm, cmap=\"binary\")\n",
        "plt.colorbar()\n",
        "plt.show()\n"
      ],
      "metadata": {
        "colab": {
          "base_uri": "https://localhost:8080/",
          "height": 410
        },
        "id": "rFBTC87MRLR2",
        "outputId": "7874c764-02bf-42be-c900-4f3b11c58d35"
      },
      "execution_count": 25,
      "outputs": [
        {
          "output_type": "stream",
          "name": "stdout",
          "text": [
            ":::Test Metrics:::\n",
            "\n",
            "Accuracy:  0.8835482610394686\n",
            "Precision:  0.6903914590747331\n",
            "Recall:  0.9402261712439418\n",
            "f1_score:  0.7961696306429549\n",
            "False Positive Rate:  0.1345360824742268\n",
            "ROC AUC:  0.9260513298802525\n",
            "confusion matrix\n"
          ]
        },
        {
          "output_type": "display_data",
          "data": {
            "text/plain": [
              "<Figure size 288x288 with 2 Axes>"
            ],
            "image/png": "[encoded data removed]"
          },
          "metadata": {
            "needs_background": "light"
          }
        }
      ]
    }
  ],
  "metadata": {
    "accelerator": "GPU",
    "colab": {
      "collapsed_sections": [
        "I4d3wBQDyPCf"
      ],
      "name": "End Project Work_resnet.ipynb",
      "provenance": []
    },
    "kernelspec": {
      "display_name": "Python 3",
      "name": "python3"
    },
    "language_info": {
      "name": "python"
    }
  },
  "nbformat": 4,
  "nbformat_minor": 0
}